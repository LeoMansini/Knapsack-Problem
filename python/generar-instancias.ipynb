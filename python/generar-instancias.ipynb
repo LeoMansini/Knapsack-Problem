{
 "cells": [
  {
   "cell_type": "markdown",
   "metadata": {},
   "source": [
    "# Generador de instancias\n",
    "En este notebook está el código para generar los sets de instancias que se usan para experimentar.\n",
    "- Estas instancias van a ser guardadas en la carpeta __instancias__.\n",
    "- Cada set estará en su propia carpeta y tendrá un archivo _indice.csv_ que contendrá información sobre las instancias."
   ]
  },
  {
   "cell_type": "code",
   "execution_count": 1,
   "metadata": {},
   "outputs": [],
   "source": [
    "import random, math\n",
    "import pandas as pd"
   ]
  },
  {
   "cell_type": "code",
   "execution_count": 2,
   "metadata": {},
   "outputs": [],
   "source": [
    "def save_instance(dataset, instance_name, soportes, pesos, resTubo):\n",
    "    with open(F\"instancias/{dataset}/{instance_name}.txt\", \"w\") as f:\n",
    "        print(len(pesos), resTubo, file=f)\n",
    "        for i in range(len(pesos)): \n",
    "            print(pesos[i], soportes[i], file=f)\n",
    "\n",
    "def save_index(dataset, instances):\n",
    "    with open(F\"instancias/{dataset}/instances.txt\", \"w\") as f:\n",
    "        for instance in instances: \n",
    "            print(instance, file=f)"
   ]
  },
  {
   "cell_type": "markdown",
   "metadata": {},
   "source": [
    "## Dataset 1\n",
    "Instancias en las que entran todos los elementos en el Jambotubo. Mejor caso para backtracking con poda de optimalidad, y peor caso para backtracking con poda de factibilidad, como se describe en el informe en más detalle.\n",
    "\n",
    "$\\{(peso_0, soporte_0), ..., (peso_{n-1}, soporte_{n-1})\\} \\text{ con }$\n",
    "\n",
    "$resTubo = 10n$\n",
    "\n",
    "$soporte_i = 10n $\n",
    "\n",
    "$peso_i = \\lceil\\frac{r}{n} \\rceil $"
   ]
  },
  {
   "cell_type": "code",
   "execution_count": 3,
   "metadata": {},
   "outputs": [],
   "source": [
    "filas_indice = []\n",
    "for n in range(1, 100):\n",
    "    # Genero una instancia en la que entran todos.\n",
    "    resTubo = 10*n\n",
    "    pesos = [math.ceil(resTubo/n) for i in range(0, n)]\n",
    "    soportes = [10*n for i in range(0, n)]\n",
    "    save_instance(\"mejor-caso-BT-O\", F\"BT-M-{n}-T\", soportes, pesos, resTubo)\n",
    "    filas_indice.append([\"mejor-caso-BT-O\", F\"BT-M-{n}-T\", n, resTubo, F\"instancias/mejor-caso-BT-O/BT-M-{n}-T.txt\"])\n",
    "\n",
    "pd.DataFrame(filas_indice, columns=[\"dataset\", \"instancia\", \"n\", \"resTubo\", \"archivo\"]).to_csv(\"instancias/mejor-caso-BT-O/indice.csv\", index=False, header=True)"
   ]
  },
  {
   "cell_type": "markdown",
   "metadata": {},
   "source": [
    "## Dataset 2\n",
    "Instancias en las que no entra ninguno de los elementos en el Jambotubo. Mejor caso para backtracking con poda de factibilidad, y peor caso para backtracking con poda de optimalidad, como se describe en el informe en más detalle.\n",
    "\n",
    "$\\{(peso_0, soporte_0), ..., (peso_{n-1}, soporte_{n-1})\\} \\text{ con }$\n",
    "\n",
    "$resTubo = 10n$\n",
    "\n",
    "$soporte_i = 10n $\n",
    "\n",
    "$peso_i = resTubo+1 $"
   ]
  },
  {
   "cell_type": "code",
   "execution_count": 4,
   "metadata": {},
   "outputs": [],
   "source": [
    "filas_indice = []\n",
    "for n in range(1, 100):\n",
    "    # Genero una instancia en la que no entra ninguno.\n",
    "    resTubo = 10*n\n",
    "    pesos = [resTubo+1 for i in range(0, n)]\n",
    "    soportes = [10*n for i in range(0, n)]\n",
    "    save_instance(\"mejor-caso-BT-F\", F\"BT-P-{n}-N\", soportes, pesos, resTubo)\n",
    "    filas_indice.append([\"mejor-caso-BT-F\", F\"BT-P-{n}-N\", n, resTubo, F\"instancias/mejor-caso-BT-F/BT-P-{n}-N.txt\"])\n",
    "\n",
    "pd.DataFrame(filas_indice, columns=[\"dataset\", \"instancia\", \"n\", \"resTubo\", \"archivo\"]).to_csv(\"instancias/mejor-caso-BT-F/indice.csv\", index=False, header=True)"
   ]
  },
  {
   "cell_type": "markdown",
   "metadata": {},
   "source": [
    "## Dataset 3\n",
    "Instancias en las que entran muchos elementos en el Jambotubo. Buen caso para backtracking con poda de optimalidad, y mal caso para backtracking con poda de factibilidad, como se describe en el informe en más detalle.\n",
    "\n",
    "$\\{(peso_0, soporte_0), ..., (peso_{n-1}, soporte_{n-1})\\} \\text{ con }$\n",
    "\n",
    "$9n \\leq resTubo \\leq 10n$\n",
    "\n",
    "$9n \\leq soporte_i \\leq 10n $\n",
    "\n",
    "$\\lceil \\frac{r}{n} \\rceil \\leq peso_i \\leq \\lceil \\frac{r}{0.75n} \\rceil$\n"
   ]
  },
  {
   "cell_type": "code",
   "execution_count": 5,
   "metadata": {},
   "outputs": [],
   "source": [
    "filas_indice = []\n",
    "for n in range(1, 50):\n",
    "    resTubo = math.floor((9+ random.random()) * n)\n",
    "    pesos = [math.ceil(resTubo/(n*(0.75 + random.random()/4))) for i in range(0, n)]\n",
    "    soportes = [math.floor((9+ random.random()) * n) for i in range(0, n)]\n",
    "    save_instance(\"entran-muchos-BT\", F\"BT-M-{n}\", soportes, pesos, resTubo)\n",
    "    filas_indice.append([\"entran-muchos-BT\", F\"BT-M-{n}\", n, resTubo, F\"instancias/entran-muchos-BT/BT-M-{n}.txt\"])\n",
    "\n",
    "pd.DataFrame(filas_indice, columns=[\"dataset\", \"instancia\", \"n\", \"resTubo\", \"archivo\"]).to_csv(\"instancias/entran-muchos-BT/indice.csv\", index=False, header=True)"
   ]
  },
  {
   "cell_type": "markdown",
   "metadata": {},
   "source": [
    "## Dataset 4\n",
    "Instancias en las que entran pocos elementos en el Jambotubo. Buen caso para backtracking con poda de factibilidad, y mal caso para backtracking con poda de optimalidad, como se describe en el informe en más detalle.\n",
    "\n",
    "$\\{(peso_0, soporte_0), ..., (peso_{n-1}, soporte_{n-1})\\} \\text{ con }$\n",
    "\n",
    "$9n \\leq resTubo \\leq 10n$\n",
    "\n",
    "$9n \\leq soporte_i \\leq 10n$\n",
    "\n",
    "$\\lceil \\frac{r}{n*0.1} \\rceil \\leq peso_i \\leq \\lceil 1.1*\\frac{r}{n*0.1} \\rceil$"
   ]
  },
  {
   "cell_type": "code",
   "execution_count": 6,
   "metadata": {},
   "outputs": [],
   "source": [
    "filas_indice = []\n",
    "for n in range(1, 50):\n",
    "    resTubo = math.floor((9+ random.random()) * n)\n",
    "    pesos = [math.ceil((1+random.random()/10)*resTubo/(0.1*n)) for i in range(0, n)]\n",
    "    soportes = [math.floor((9+ random.random()) * n) for i in range(0, n)]\n",
    "    save_instance(\"entran-pocos-BT\", F\"BT-P-{n}\", soportes, pesos, resTubo)\n",
    "    filas_indice.append([\"entran-pocos-BT\", F\"BT-P-{n}\", n, resTubo, F\"instancias/entran-pocos-BT/BT-P-{n}.txt\"])\n",
    "\n",
    "pd.DataFrame(filas_indice, columns=[\"dataset\", \"instancia\", \"n\", \"resTubo\", \"archivo\"]).to_csv(\"instancias/entran-pocos-BT/indice.csv\", index=False, header=True)"
   ]
  },
  {
   "cell_type": "markdown",
   "metadata": {},
   "source": [
    "## Dataset 5\n",
    "Instancias en las que entran aproximadamente la mitad de los elementos en el Jambotubo:\n",
    "\n",
    "$9n \\leq resTubo \\leq 10n$\n",
    "\n",
    "$9n \\leq soporte_i \\leq 10n $\n",
    "\n",
    "$\\lceil \\frac{2r}{n} \\rceil \\leq peso_i \\leq \\lceil \\frac{3r}{n}$ \\rceil\n"
   ]
  },
  {
   "cell_type": "code",
   "execution_count": 7,
   "metadata": {},
   "outputs": [],
   "source": [
    "filas_indice = []\n",
    "for n in range(1, 50):\n",
    "    resTubo = math.floor((9+ random.random()) * n)\n",
    "    pesos = [math.ceil((2+random.random())*resTubo/n) for i in range(0, n)]\n",
    "    soportes = [math.floor((9+ random.random()) * n) for i in range(0, n)]\n",
    "    save_instance(\"peor-caso-BT\", F\"BT-Mit-{n}\", soportes, pesos, resTubo)\n",
    "    filas_indice.append([\"peor-caso-BT\", F\"BT-Mit-{n}\", n, resTubo, F\"instancias/peor-caso-BT/BT-Mit-{n}.txt\"])\n",
    "\n",
    "pd.DataFrame(filas_indice, columns=[\"dataset\", \"instancia\", \"n\", \"resTubo\", \"archivo\"]).to_csv(\"instancias/peor-caso-BT/indice.csv\", index=False, header=True)"
   ]
  },
  {
   "cell_type": "markdown",
   "metadata": {},
   "source": [
    "## Dataset 6\n",
    "Instancias en las que hay mucha superposicion de casos, para testeo de programación dinámica:\n",
    "\n",
    "$1000 \\leq resTubo \\leq 8000$\n",
    "\n",
    "$1000 \\leq n \\leq 8000$\n",
    "\n",
    "$soporte_i = resTubo$\n",
    "\n",
    "$peso_i = 1$ $\\forall i$\n"
   ]
  },
  {
   "cell_type": "code",
   "execution_count": 8,
   "metadata": {},
   "outputs": [],
   "source": [
    "filas_indice = []\n",
    "for n in range(1000, 8000, 500):\n",
    "    # Genero una instancia en la que entran todos.\n",
    "    for resTubo in range(1000, 8000, 500):\n",
    "        pesos = [1 for i in range(0, n)]\n",
    "        soportes = [resTubo for i in range(0, n)]\n",
    "        save_instance(\"mejor-caso-DP\", F\"DP-PR-{n}-{resTubo}\", soportes, pesos, resTubo)\n",
    "        filas_indice.append([\"mejor-caso-DP\", F\"DP-PR-{n}-{resTubo}\", n, resTubo, F\"instancias/mejor-caso-DP/DP-PR-{n}-{resTubo}.txt\"])\n",
    "\n",
    "pd.DataFrame(filas_indice, columns=[\"dataset\", \"instancia\", \"n\", \"resTubo\", \"archivo\"]).to_csv(\"instancias/mejor-caso-DP/indice.csv\", index=False, header=True)"
   ]
  },
  {
   "cell_type": "markdown",
   "metadata": {},
   "source": [
    "# Dataset 7\n",
    "Instancias en las que hay poca superposicion de casos, para testeo de programación dinámica:\n",
    "\n",
    "$9n \\leq resTubo \\leq 10n$\n",
    "\n",
    "$9n \\leq soporte_i \\leq 10n $\n",
    "\n",
    "$peso_i = 2^k$ $\\forall i$, $0 \\leq k \\leq n$"
   ]
  },
  {
   "cell_type": "code",
   "execution_count": 9,
   "metadata": {},
   "outputs": [],
   "source": [
    "\n",
    "filas_indice = []\n",
    "pesosBase = [2**i for i in range(0, 25)]\n",
    "for n in range(1, 100):\n",
    "    # Genero una instancia en la que entran todos.\n",
    "    resTubo = (2**(min(n, 25)))*math.ceil(n/25)\n",
    "    if n < 25:\n",
    "        pesos = pesosBase[:n]\n",
    "    else:\n",
    "        pesos = (n//25)*pesosBase+pesosBase[:n%25]\n",
    "    random.shuffle(pesos)\n",
    "    soportes = [(2**(min(n, 25)))*math.ceil(n/25) for i in range(0, n)]\n",
    "    save_instance(\"peor-caso-DP\", F\"DP-PW-{n}\", soportes, pesos, resTubo)\n",
    "    filas_indice.append([\"peor-caso-DP\", F\"DP-PW-{n}\", n, resTubo, F\"instancias/peor-caso-DP/DP-PW-{n}.txt\"])\n",
    "\n",
    "pd.DataFrame(filas_indice, columns=[\"dataset\", \"instancia\", \"n\", \"resTubo\", \"archivo\"]).to_csv(\"instancias/peor-caso-DP/indice.csv\", index=False, header=True)"
   ]
  },
  {
   "cell_type": "code",
   "execution_count": null,
   "metadata": {},
   "outputs": [],
   "source": []
  }
 ],
 "metadata": {
  "kernelspec": {
   "display_name": "Python 3",
   "language": "python",
   "name": "python3"
  },
  "language_info": {
   "codemirror_mode": {
    "name": "ipython",
    "version": 3
   },
   "file_extension": ".py",
   "mimetype": "text/x-python",
   "name": "python",
   "nbconvert_exporter": "python",
   "pygments_lexer": "ipython3",
   "version": "3.8.6"
  }
 },
 "nbformat": 4,
 "nbformat_minor": 4
}
