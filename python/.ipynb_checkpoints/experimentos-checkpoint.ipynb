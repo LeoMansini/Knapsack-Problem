{
 "cells": [
  {
   "cell_type": "markdown",
   "metadata": {},
   "source": [
    "# Correr experimentos\n",
    "En este archivo está el código para correr los experimentos y escribir los resultados en archivos CSV.\n",
    "> Los archivos se guardan en la carpeta _resultados_."
   ]
  },
  {
   "cell_type": "code",
   "execution_count": 1,
   "metadata": {},
   "outputs": [],
   "source": [
    "import math, subprocess\n",
    "import pandas as pd\n",
    "import numpy as np\n",
    "from IPython.display import display, clear_output"
   ]
  },
  {
   "cell_type": "markdown",
   "metadata": {},
   "source": [
    "A continuación leemos los datasets en dataframes de Pandas."
   ]
  },
  {
   "cell_type": "code",
   "execution_count": 2,
   "metadata": {
    "tags": []
   },
   "outputs": [],
   "source": [
    "def leer_instancia(path_instancia):\n",
    "    with open(path_instancia, \"r\") as f:\n",
    "        return f.read();\n",
    "\n",
    "df_mejor_caso_BT_O = pd.read_csv(\"instancias/mejor-caso-BT-O/indice.csv\");\n",
    "df_mejor_caso_BT_F = pd.read_csv(\"instancias/mejor-caso-BT-F/indice.csv\");\n",
    "df_peor_caso_BT = pd.read_csv(\"instancias/peor-caso-BT/indice.csv\");\n",
    "df_entran_muchos_BT = pd.read_csv(\"instancias/entran-muchos-BT/indice.csv\");\n",
    "df_entran_pocos_BT = pd.read_csv(\"instancias/entran-pocos-BT/indice.csv\");\n",
    "df_peor_caso_DP = pd.read_csv(\"instancias/peor-caso-DP/indice.csv\");\n",
    "df_mejor_caso_DP = pd.read_csv(\"instancias/mejor-caso-DP/indice.csv\");"
   ]
  },
  {
   "cell_type": "markdown",
   "metadata": {},
   "source": [
    "La siguiente función sirve para correr el código sobre una instancia ejecutando un método en particular.\n",
    "- FB: Fuerza bruta\n",
    "- BT: Backtracking con ambas podas.\n",
    "- BT-F: Backtracking solamente con poda por factibilidad.\n",
    "- BT-O: Backtracking solamente con poda por optimalidad.\n",
    "- DP: Programación dinámica."
   ]
  },
  {
   "cell_type": "code",
   "execution_count": 3,
   "metadata": {},
   "outputs": [],
   "source": [
    "def correr_experimento(metodo, archivo_instancia):\n",
    "    # Leer archivo de la instancia.\n",
    "    instancia = leer_instancia(archivo_instancia)\n",
    "    \n",
    "    # Crear proceso para ejecutar el codigo.\n",
    "    process = subprocess.Popen([\"../jambotubo\", metodo], stderr=subprocess.PIPE, stdout=subprocess.PIPE, stdin=subprocess.PIPE, universal_newlines = True)\n",
    "\n",
    "    # Poner la instancia en la entrada estandar.\n",
    "    process.stdin.write(instancia)\n",
    "    process.stdin.flush()\n",
    "\n",
    "    # Correr experimento.\n",
    "    exit_code = process.wait()\n",
    "\n",
    "    # Verificar que el proceso no fallo.\n",
    "    if exit_code != 0: raise(F\"Hubo un error en la experimentacion para el algoritmo: {algoritmo} con la instancia {archivo_instancia}.\")\n",
    "    # Leer salida de STDERR con los tiempos de ejecucion de cada metodo.\n",
    "    #tiempo_de_ejecucion = float(process.stderr.read());\n",
    "    tiempo_de_ejecucion = float(process.stdout.read());\n",
    "    \n",
    "    process.stdin.close();\n",
    "    process.stdout.close();\n",
    "    process.stderr.close();\n",
    "    \n",
    "    return tiempo_de_ejecucion;"
   ]
  },
  {
   "cell_type": "markdown",
   "metadata": {},
   "source": [
    "## Corremos los experimentos\n",
    "Vamos a guardar una tabla con las ejecuciones y sus respectivos tiempos."
   ]
  },
  {
   "cell_type": "code",
   "execution_count": 4,
   "metadata": {},
   "outputs": [],
   "source": [
    "experimentos = [];"
   ]
  },
  {
   "cell_type": "markdown",
   "metadata": {},
   "source": [
    "## Experimento 1\n",
    "Correr Fuerza Bruta en las primeras 25 instancias de entran pocos, muchos y mitad (peor caso para BT). Se espera que en todos los casos los tiempos de ejecución sean exponenciales, dado que independientemente de la instancia, el algoritmo es $\\Theta(2^n)$."
   ]
  },
  {
   "cell_type": "code",
   "execution_count": 5,
   "metadata": {},
   "outputs": [],
   "source": [
    "for n in range(0, 25):\n",
    "    fila_n = df_peor_caso_BT.iloc[n];\n",
    "    experimentos.append([fila_n[\"dataset\"],  fila_n[\"n\"], fila_n[\"resTubo\"], \"FB\", fila_n[\"archivo\"]]);\n",
    "\n",
    "for n in range(0, 25):\n",
    "    fila_n = df_entran_muchos_BT.iloc[n];\n",
    "    experimentos.append([fila_n[\"dataset\"], fila_n[\"n\"], fila_n[\"resTubo\"], \"FB\", fila_n[\"archivo\"]]);\n",
    "    \n",
    "for n in range(0, 25):\n",
    "    fila_n = df_entran_pocos_BT.iloc[n];\n",
    "    experimentos.append([fila_n[\"dataset\"],  fila_n[\"n\"], fila_n[\"resTubo\"], \"FB\", fila_n[\"archivo\"]]);"
   ]
  },
  {
   "cell_type": "markdown",
   "metadata": {},
   "source": [
    "## Experimento 2\n",
    "Correr BT en casos donde las podas de factibilidad o de optimalidad son más eficientes, y en casos donde ambas son menos."
   ]
  },
  {
   "cell_type": "code",
   "execution_count": 6,
   "metadata": {},
   "outputs": [],
   "source": [
    "#for n in range(0, df_peor_caso_BT.shape[0]):\n",
    "for n in range(0, 25):\n",
    "    fila_n = df_peor_caso_BT.iloc[n];\n",
    "    experimentos.append([fila_n[\"dataset\"],  fila_n[\"n\"], fila_n[\"resTubo\"], \"BT\", fila_n[\"archivo\"]]);\n",
    "\n",
    "#for n in range(0, df_entran_muchos_BT.shape[0]):\n",
    "for n in range(0, 25):\n",
    "    fila_n = df_entran_muchos_BT.iloc[n];\n",
    "    experimentos.append([fila_n[\"dataset\"],  fila_n[\"n\"], fila_n[\"resTubo\"], \"BT\", fila_n[\"archivo\"]]);\n",
    "    \n",
    "#for n in range(0, df_entran_pocos_BT.shape[0]):\n",
    "for n in range(0, 25):\n",
    "    fila_n = df_entran_pocos_BT.iloc[n];\n",
    "    experimentos.append([fila_n[\"dataset\"],  fila_n[\"n\"], fila_n[\"resTubo\"], \"BT\", fila_n[\"archivo\"]]);"
   ]
  },
  {
   "cell_type": "markdown",
   "metadata": {},
   "source": [
    "## Experimento 3\n",
    "Correr BT, BT-F, BT-O casos buenos y malos para cada poda a fines comparativos"
   ]
  },
  {
   "cell_type": "code",
   "execution_count": 7,
   "metadata": {},
   "outputs": [],
   "source": [
    "for n in range(0, df_mejor_caso_BT_F.shape[0]):\n",
    "    fila_n = df_mejor_caso_BT_F.iloc[n];\n",
    "    experimentos.append([fila_n[\"dataset\"],  fila_n[\"n\"], fila_n[\"resTubo\"], \"BT\", fila_n[\"archivo\"]]);\n",
    "    experimentos.append([fila_n[\"dataset\"],  fila_n[\"n\"], fila_n[\"resTubo\"], \"BT-F\", fila_n[\"archivo\"]]);\n",
    "    if n<26:\n",
    "        experimentos.append([fila_n[\"dataset\"],  fila_n[\"n\"], fila_n[\"resTubo\"], \"BT-O\", fila_n[\"archivo\"]]);\n",
    "\n",
    "for n in range(0, df_mejor_caso_BT_O.shape[0]):\n",
    "    fila_n = df_mejor_caso_BT_O.iloc[n];\n",
    "    experimentos.append([fila_n[\"dataset\"],  fila_n[\"n\"], fila_n[\"resTubo\"], \"BT\", fila_n[\"archivo\"]]);\n",
    "    if n<26:\n",
    "        experimentos.append([fila_n[\"dataset\"],  fila_n[\"n\"], fila_n[\"resTubo\"], \"BT-F\", fila_n[\"archivo\"]]);\n",
    "    experimentos.append([fila_n[\"dataset\"],  fila_n[\"n\"], fila_n[\"resTubo\"], \"BT-O\", fila_n[\"archivo\"]]);\n",
    "\n",
    "#for n in range(0, df_peor_caso_BT.shape[0]):\n",
    "for n in range(0, 25):\n",
    "    fila_n = df_peor_caso_BT.iloc[n];\n",
    "    experimentos.append([fila_n[\"dataset\"],  fila_n[\"n\"], fila_n[\"resTubo\"], \"BT\", fila_n[\"archivo\"]]);\n",
    "    experimentos.append([fila_n[\"dataset\"],  fila_n[\"n\"], fila_n[\"resTubo\"], \"BT-F\", fila_n[\"archivo\"]]);\n",
    "    experimentos.append([fila_n[\"dataset\"],  fila_n[\"n\"], fila_n[\"resTubo\"], \"BT-O\", fila_n[\"archivo\"]]);"
   ]
  },
  {
   "cell_type": "markdown",
   "metadata": {},
   "source": [
    "## Experimento 4\n",
    "Correr DP para sus mejores y peores casos"
   ]
  },
  {
   "cell_type": "code",
   "execution_count": 8,
   "metadata": {},
   "outputs": [],
   "source": [
    "#for n in range(0, df_peor_caso_DP.shape[0]):\n",
    "for n in range(0, 25):\n",
    "    fila_n = df_peor_caso_DP.iloc[n];\n",
    "    experimentos.append([fila_n[\"dataset\"],  fila_n[\"n\"], fila_n[\"resTubo\"], \"DP\", fila_n[\"archivo\"]]);\n",
    "    experimentos.append([fila_n[\"dataset\"],  fila_n[\"n\"], fila_n[\"resTubo\"], \"BT\", fila_n[\"archivo\"]]);\n",
    "    \n",
    "for n in range(0, df_mejor_caso_DP.shape[0]):\n",
    "    #for n in range(0, 25):\n",
    "    fila_n = df_mejor_caso_DP.iloc[n];\n",
    "    experimentos.append([fila_n[\"dataset\"],  fila_n[\"n\"], fila_n[\"resTubo\"], \"DP\", fila_n[\"archivo\"]]);\n",
    "    experimentos.append([fila_n[\"dataset\"],  fila_n[\"n\"], fila_n[\"resTubo\"], \"BT\", fila_n[\"archivo\"]]);\n",
    "    "
   ]
  },
  {
   "cell_type": "markdown",
   "metadata": {},
   "source": [
    "## Experimento 5\n",
    "Correr DP para instancias en que entran muchos y pocos elementos a fin de comparar con los otros métodos"
   ]
  },
  {
   "cell_type": "code",
   "execution_count": 9,
   "metadata": {},
   "outputs": [],
   "source": [
    "for n in range(0, df_entran_muchos_BT.shape[0]):\n",
    "    #for n in range(0, 25):\n",
    "    fila_n = df_entran_muchos_BT.iloc[n];\n",
    "    experimentos.append([fila_n[\"dataset\"],  fila_n[\"n\"], fila_n[\"resTubo\"], \"DP\", fila_n[\"archivo\"]]);\n",
    "    experimentos.append([fila_n[\"dataset\"],  fila_n[\"n\"], fila_n[\"resTubo\"], \"BT\", fila_n[\"archivo\"]]);\n",
    "\n",
    "for n in range(0, df_entran_pocos_BT.shape[0]):\n",
    "    #for n in range(0, 25):\n",
    "    fila_n = df_entran_pocos_BT.iloc[n];\n",
    "    experimentos.append([fila_n[\"dataset\"],  fila_n[\"n\"], fila_n[\"resTubo\"], \"DP\", fila_n[\"archivo\"]]);\n",
    "    experimentos.append([fila_n[\"dataset\"],  fila_n[\"n\"], fila_n[\"resTubo\"], \"BT\", fila_n[\"archivo\"]]);\n",
    "#for n in range(0, df_peor_caso_BT.shape[0]):\n",
    "for n in range(0, 25):\n",
    "    fila_n = df_peor_caso_BT.iloc[n];\n",
    "    experimentos.append([fila_n[\"dataset\"],  fila_n[\"n\"], fila_n[\"resTubo\"], \"DP\", fila_n[\"archivo\"]]);\n",
    "    experimentos.append([fila_n[\"dataset\"],  fila_n[\"n\"], fila_n[\"resTubo\"], \"BT\", fila_n[\"archivo\"]]);"
   ]
  },
  {
   "cell_type": "markdown",
   "metadata": {},
   "source": [
    "## Ejecutar los experimentos y guardar los resultados en un archivo CSV.\n",
    "Este paso puede tardar unos minutos hasta terminar de ejecutarse."
   ]
  },
  {
   "cell_type": "code",
   "execution_count": 10,
   "metadata": {},
   "outputs": [
    {
     "data": {
      "text/plain": [
       "'Experimento: 1361/1361 instancias/peor-caso-BT/BT-Mit-25.txt BT'"
      ]
     },
     "metadata": {},
     "output_type": "display_data"
    }
   ],
   "source": [
    "columnas = [\"dataset\", \"n\", \"resTubo\", \"metodo\", \"tiempo\"];\n",
    "filas = [];\n",
    "numero = 1\n",
    "T = 5 # Numero de veces que se ejecuta cada experimento (para mayor fidelidad del tiempo).\n",
    "for experimento in experimentos:\n",
    "    # Voy mostrando que experimento se esta ejecutando.\n",
    "    clear_output(wait=True)\n",
    "    display('Experimento: ' + str(numero) + \"/\" + str(len(experimentos)) + \" \" + experimento[4] + \" \" + experimento[3])\n",
    "    numero += 1\n",
    "    \n",
    "    # Ejecutamos el experimento T veces y obtenemos la mediana.\n",
    "    tiempos = []\n",
    "    for i in range(0, T):\n",
    "        tiempos.append(correr_experimento(experimento[3], experimento[4]));\n",
    "    tiempo = np.median(tiempos);\n",
    "    filas.append([experimento[0], experimento[1], experimento[2], experimento[3], tiempo]);\n",
    "df_resultado = pd.DataFrame(filas, columns=columnas);\n",
    "df_resultado.to_csv(\"resultados/resultado.csv\", index=False, header=True);"
   ]
  },
  {
   "cell_type": "code",
   "execution_count": null,
   "metadata": {},
   "outputs": [],
   "source": []
  }
 ],
 "metadata": {
  "kernelspec": {
   "display_name": "Python 3",
   "language": "python",
   "name": "python3"
  },
  "language_info": {
   "codemirror_mode": {
    "name": "ipython",
    "version": 3
   },
   "file_extension": ".py",
   "mimetype": "text/x-python",
   "name": "python",
   "nbconvert_exporter": "python",
   "pygments_lexer": "ipython3",
   "version": "3.8.6"
  }
 },
 "nbformat": 4,
 "nbformat_minor": 4
}
